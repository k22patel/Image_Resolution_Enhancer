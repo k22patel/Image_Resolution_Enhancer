{
 "cells": [
  {
   "cell_type": "markdown",
   "metadata": {
    "id": "p7QhK-IfpArb"
   },
   "source": [
    "## Files are uploaded as zip, so we will unzip them first\n"
   ]
  },
  {
   "cell_type": "code",
   "execution_count": null,
   "metadata": {
    "id": "0iWan9YhpI6k"
   },
   "outputs": [],
   "source": [
    "%%capture\n",
    "!rm -fr /content/raw_data\n",
    "!unzip /content/raw_data.zip"
   ]
  },
  {
   "cell_type": "markdown",
   "metadata": {
    "id": "02va_v9tpQAj"
   },
   "source": [
    "## Loading and preprocessing data"
   ]
  },
  {
   "cell_type": "code",
   "execution_count": 14,
   "metadata": {
    "id": "xmjwOSOIvnEf"
   },
   "outputs": [],
   "source": [
    "from torch.utils.data import Dataset, DataLoader\n",
    "from torchvision import transforms\n",
    "from PIL import Image\n",
    "import os\n",
    "import numpy as np\n",
    "import torch\n",
    "\n",
    "# Defining the path for images\n",
    "\n",
    "high_res_dir = '/content/raw_data/high_res' \n",
    "low_res_dir = '/content/raw_data/low_res'    \n",
    "\n",
    "\n",
    "\n",
    "class CustomDataset(Dataset):\n",
    "    def __init__(self, high_res_dir, low_res_dir, transform=None):\n",
    "        self.high_res_paths = [os.path.join(high_res_dir, x) for x in sorted(os.listdir(high_res_dir))]\n",
    "        self.low_res_paths = [os.path.join(low_res_dir, x) for x in sorted(os.listdir(low_res_dir))]\n",
    "        self.transform = transform\n",
    "\n",
    "    def __len__(self):\n",
    "        return len(self.high_res_paths)\n",
    "\n",
    "    def __getitem__(self, idx):\n",
    "        high_res_image = Image.open(self.high_res_paths[idx]).convert('RGB')\n",
    "        low_res_image = Image.open(self.low_res_paths[idx]).convert('RGB')\n",
    "\n",
    "        if self.transform:\n",
    "            high_res_image = self.transform(high_res_image)\n",
    "            low_res_image = self.transform(low_res_image)\n",
    "\n",
    "        return low_res_image, high_res_image\n",
    "\n",
    "transform = transforms.Compose([\n",
    "    transforms.Resize((256, 256)),\n",
    "    transforms.ToTensor(),\n",
    "    transforms.Normalize(mean=[0.485, 0.456, 0.406], std=[0.229, 0.224, 0.225]),\n",
    "])\n",
    "\n",
    "dataset = CustomDataset(high_res_dir=high_res_dir, low_res_dir=low_res_dir, transform=transform)\n",
    "dataloader = DataLoader(dataset, batch_size=32, shuffle=True)\n"
   ]
  },
  {
   "cell_type": "markdown",
   "metadata": {
    "id": "PhSUWQD4q081"
   },
   "source": [
    "## Ploting images from dataloader"
   ]
  },
  {
   "cell_type": "code",
   "execution_count": null,
   "metadata": {
    "colab": {
     "base_uri": "https://localhost:8080/",
     "height": 525
    },
    "id": "jJNuranDqs7b",
    "outputId": "e014d0ed-24ef-4fc1-cb89-ee2cd9d9a835"
   },
   "outputs": [],
   "source": [
    "import matplotlib.pyplot as plt\n",
    "\n",
    "# Define an inverse transform to reverse the normalization\n",
    "inverse_transform = transforms.Compose([\n",
    "    transforms.Normalize(mean=[0., 0., 0.], std=[1/0.229, 1/0.224, 1/0.225]),\n",
    "    transforms.Normalize(mean=[-0.485, -0.456, -0.406], std=[1., 1., 1.]),\n",
    "])\n",
    "\n",
    "def imshow(img):\n",
    "    npimg = img.numpy()\n",
    "    plt.imshow(np.transpose(npimg, (1, 2, 0)))\n",
    "    plt.axis('off')\n",
    "\n",
    "# Retrieve a batch of images\n",
    "dataiter = iter(dataloader)\n",
    "images_low, images_high = next(dataiter)\n",
    "\n",
    "# inverse transformation for visualization\n",
    "images_low_inv = inverse_transform(images_low)\n",
    "images_high_inv = inverse_transform(images_high)\n",
    "\n",
    "# Display a few images from the batch\n",
    "plt.figure(figsize=(20, 10))\n",
    "\n",
    "for i in range(min(len(images_low), 4)):  # Show 4 images\n",
    "    plt.subplot(2, 4, i + 1)\n",
    "    imshow(images_low_inv[i])\n",
    "    plt.title('Low Res')\n",
    "\n",
    "    plt.subplot(2, 4, i + 5)\n",
    "    imshow(images_high_inv[i])\n",
    "    plt.title('High Res')\n",
    "\n",
    "plt.show()\n"
   ]
  },
  {
   "cell_type": "markdown",
   "metadata": {
    "id": "AGG7vGvdr_Mn"
   },
   "source": [
    "## Splitting dataloader into train, test and validation"
   ]
  },
  {
   "cell_type": "code",
   "execution_count": 17,
   "metadata": {
    "id": "tunf_8vQsCot"
   },
   "outputs": [],
   "source": [
    "from torch.utils.data.dataset import random_split\n",
    "\n",
    "# Example dataset size and split sizes\n",
    "dataset_size = len(dataset)  # instance of CustomDataset\n",
    "train_size = int(0.7 * dataset_size)  # 70% of the dataset for training\n",
    "val_size = int(0.15 * dataset_size)  # 15% for validation\n",
    "test_size = dataset_size - train_size - val_size  # The rest for testing\n",
    "\n",
    "# Ensuring the total size matches the dataset size\n",
    "assert train_size + val_size + test_size == dataset_size\n",
    "\n",
    "train_dataset, val_dataset, test_dataset = random_split(dataset, [train_size, val_size, test_size])\n",
    "\n",
    "train_loader = DataLoader(train_dataset, batch_size=32, shuffle=True)\n",
    "val_loader = DataLoader(val_dataset, batch_size=32, shuffle=False)\n",
    "test_loader = DataLoader(test_dataset, batch_size=32, shuffle=False)\n"
   ]
  },
  {
   "cell_type": "code",
   "execution_count": 18,
   "metadata": {
    "colab": {
     "base_uri": "https://localhost:8080/"
    },
    "id": "2bVkeIo5yJ4h",
    "outputId": "b297d858-3c56-43c5-e1aa-9ae1db27a99f"
   },
   "outputs": [
    {
     "name": "stdout",
     "output_type": "stream",
     "text": [
      "Train DataLoader - Input batch shape: torch.Size([32, 3, 256, 256]), Target batch shape: torch.Size([32, 3, 256, 256])\n",
      "Validation DataLoader - Input batch shape: torch.Size([32, 3, 256, 256]), Target batch shape: torch.Size([32, 3, 256, 256])\n",
      "Test DataLoader - Input batch shape: torch.Size([32, 3, 256, 256]), Target batch shape: torch.Size([32, 3, 256, 256])\n"
     ]
    }
   ],
   "source": [
    "# Function to print the shape of the first batch in a DataLoader\n",
    "def print_first_batch_shape(dataloader, name):\n",
    "    # Fetch the first batch\n",
    "    first_batch = next(iter(dataloader))\n",
    "    inputs, targets = first_batch\n",
    "\n",
    "    print(f\"{name} DataLoader - Input batch shape: {inputs.shape}, Target batch shape: {targets.shape}\")\n",
    "\n",
    "# Print shapes for train, validation, and test DataLoaders\n",
    "print_first_batch_shape(train_loader, \"Train\")\n",
    "print_first_batch_shape(val_loader, \"Validation\")\n",
    "print_first_batch_shape(test_loader, \"Test\")\n"
   ]
  },
  {
   "cell_type": "markdown",
   "metadata": {
    "id": "0AKZakFCq5Ji"
   },
   "source": [
    "## Define the model"
   ]
  },
  {
   "cell_type": "code",
   "execution_count": 19,
   "metadata": {
    "id": "BPjTgUHTmvA0"
   },
   "outputs": [],
   "source": [
    "import torch.nn as nn\n",
    "import torch.nn.functional as F\n",
    "\n",
    "class SRCNN(nn.Module):\n",
    "    def __init__(self):\n",
    "        super(SRCNN, self).__init__()\n",
    "        self.conv1 = nn.Conv2d(3, 64, kernel_size=9, padding=4)\n",
    "        self.conv2 = nn.Conv2d(64, 32, kernel_size=1)\n",
    "        self.conv3 = nn.Conv2d(32, 3, kernel_size=5, padding=2)\n",
    "\n",
    "    def forward(self, x):\n",
    "        x = F.relu(self.conv1(x))\n",
    "        x = F.relu(self.conv2(x))\n",
    "        x = self.conv3(x)\n",
    "        return x\n",
    "\n",
    "model = SRCNN()"
   ]
  },
  {
   "cell_type": "markdown",
   "metadata": {
    "id": "TsxEvu7vvIR-"
   },
   "source": [
    "## Generate Architecture diagram"
   ]
  },
  {
   "cell_type": "code",
   "execution_count": 20,
   "metadata": {
    "colab": {
     "base_uri": "https://localhost:8080/"
    },
    "id": "LmXfkNOescJJ",
    "outputId": "be5d2253-3b5a-40b7-c81d-14dc1e14d181"
   },
   "outputs": [],
   "source": [
    "%%capture\n",
    "pip install torchviz"
   ]
  },
  {
   "cell_type": "code",
   "execution_count": 21,
   "metadata": {
    "id": "WZxqydSotL_M"
   },
   "outputs": [],
   "source": [
    "import torch\n",
    "from torchviz import make_dot\n",
    "\n",
    "def plot_model(model, input_size):\n",
    "    \"\"\"\n",
    "    Function to plot the PyTorch model using torchviz.\n",
    "\n",
    "    Parameters:\n",
    "    - model: The PyTorch model to visualize.\n",
    "    - input_size: Size of the input tensor (excluding batch size).\n",
    "    \"\"\"\n",
    "    # dummy input tensor appropriate for the model\n",
    "    dummy_input = torch.randn(1, *input_size, dtype=torch.float)\n",
    "\n",
    "    # forward pass to get the output\n",
    "    output = model(dummy_input)\n",
    "\n",
    "    # torchviz to create a dot graph of the model\n",
    "    dot = make_dot(output, params=dict(list(model.named_parameters())))\n",
    "\n",
    "    # Render the dot graph to a file (or display it in some environments)\n",
    "    dot.render(\"model_visualization\", format=\"png\", cleanup=True)\n",
    "    print(\"Model plot saved as model_visualization.png\")\n"
   ]
  },
  {
   "cell_type": "code",
   "execution_count": 26,
   "metadata": {
    "colab": {
     "base_uri": "https://localhost:8080/"
    },
    "id": "Gr0iorLesmdp",
    "outputId": "b2dbbf57-e69a-4756-d883-fb7d0b73a986"
   },
   "outputs": [
    {
     "name": "stdout",
     "output_type": "stream",
     "text": [
      "SRCNN(\n",
      "  (conv1): Conv2d(3, 64, kernel_size=(9, 9), stride=(1, 1), padding=(4, 4))\n",
      "  (conv2): Conv2d(64, 32, kernel_size=(1, 1), stride=(1, 1))\n",
      "  (conv3): Conv2d(32, 3, kernel_size=(5, 5), stride=(1, 1), padding=(2, 2))\n",
      ")\n",
      "Model plot saved as model_visualization.png\n"
     ]
    }
   ],
   "source": [
    "from torchviz import make_dot\n",
    "import os\n",
    "os.environ[\"PATH\"] += os.pathsep + r\"C:\\Program Files (x86)\\Graphviz-10.0.1-win64\\bin\"\n",
    "\n",
    "model = SRCNN()  \n",
    "print(model)\n",
    "plot_model(model, input_size=(3, 256, 256))"
   ]
  },
  {
   "cell_type": "markdown",
   "metadata": {
    "id": "RaPW6KdTvM02"
   },
   "source": [
    "## Train model"
   ]
  },
  {
   "cell_type": "code",
   "execution_count": 27,
   "metadata": {
    "colab": {
     "base_uri": "https://localhost:8080/",
     "height": 1000
    },
    "id": "p66xEsmxvNiN",
    "outputId": "ce25fad7-fc69-4143-fcc5-525294c1eb5a"
   },
   "outputs": [
    {
     "name": "stdout",
     "output_type": "stream",
     "text": [
      "cpu\n",
      "Epoch 1, Training Loss: 0.49459032400658254\n",
      "Epoch 1, Validation Loss: 0.1970447152853012\n",
      "Epoch 2, Training Loss: 0.1620581777472245\n",
      "Epoch 2, Validation Loss: 0.14993614330887794\n",
      "Epoch 3, Training Loss: 0.1177511928897155\n",
      "Epoch 3, Validation Loss: 0.11169746704399586\n",
      "Epoch 4, Training Loss: 0.08668415326821177\n",
      "Epoch 4, Validation Loss: 0.08511955849826336\n",
      "Epoch 5, Training Loss: 0.07142116992097151\n",
      "Epoch 5, Validation Loss: 0.07576286792755127\n",
      "Epoch 6, Training Loss: 0.06332706326716825\n",
      "Epoch 6, Validation Loss: 0.06730292830616236\n",
      "Epoch 7, Training Loss: 0.05701659443347078\n",
      "Epoch 7, Validation Loss: 0.06065546069294214\n",
      "Epoch 8, Training Loss: 0.051946519236815605\n",
      "Epoch 8, Validation Loss: 0.057433830574154854\n",
      "Epoch 9, Training Loss: 0.048862184348859285\n",
      "Epoch 9, Validation Loss: 0.050916231237351894\n",
      "Epoch 10, Training Loss: 0.04376938801847006\n",
      "Epoch 10, Validation Loss: 0.04821980558335781\n",
      "Epoch 11, Training Loss: 0.04116602340026906\n",
      "Epoch 11, Validation Loss: 0.04489726014435291\n",
      "Epoch 12, Training Loss: 0.03884832737477202\n",
      "Epoch 12, Validation Loss: 0.04278816934674978\n",
      "Epoch 13, Training Loss: 0.03716133662352437\n",
      "Epoch 13, Validation Loss: 0.04110196232795715\n",
      "Epoch 14, Training Loss: 0.03626498785850249\n",
      "Epoch 14, Validation Loss: 0.03952838759869337\n",
      "Epoch 15, Training Loss: 0.03512208153934855\n",
      "Epoch 15, Validation Loss: 0.0394666213542223\n",
      "Epoch 16, Training Loss: 0.03412822232042488\n",
      "Epoch 16, Validation Loss: 0.03741510584950447\n",
      "Epoch 17, Training Loss: 0.03290318315358538\n",
      "Epoch 17, Validation Loss: 0.036409408785402775\n",
      "Epoch 18, Training Loss: 0.03187168781694613\n",
      "Epoch 18, Validation Loss: 0.035644383169710636\n",
      "Epoch 19, Training Loss: 0.03169586431039007\n",
      "Epoch 19, Validation Loss: 0.03479831060394645\n",
      "Epoch 20, Training Loss: 0.030696212657188113\n",
      "Epoch 20, Validation Loss: 0.03403114061802626\n"
     ]
    },
    {
     "data": {
      "image/png": "[encoded data removed]",
      "text/plain": [
       "<Figure size 640x480 with 1 Axes>"
      ]
     },
     "metadata": {},
     "output_type": "display_data"
    }
   ],
   "source": [
    "import torch.optim as optim\n",
    "\n",
    "device = torch.device('cuda' if torch.cuda.is_available() else 'cpu')\n",
    "print(device)\n",
    "model = model.to(device)\n",
    "\n",
    "# set loss to MSE\n",
    "loss_function = nn.MSELoss()\n",
    "\n",
    "# Set optimizer as Adam\n",
    "optimizer = torch.optim.Adam(model.parameters(), lr=0.001)\n",
    "\n",
    "# Number of epochs\n",
    "epochs = 20\n",
    "\n",
    "# Initiate the values\n",
    "train_risk = []\n",
    "val_risk = []\n",
    "\n",
    "for epoch in range(epochs):\n",
    "    # Training loop\n",
    "    model.train()\n",
    "    running_loss = 0.0\n",
    "\n",
    "    for inputs, labels in train_loader:\n",
    "        inputs, labels = inputs.to(device), labels.to(device)\n",
    "        \n",
    "        # Forward pass\n",
    "        outputs = model(inputs)\n",
    "\n",
    "        # Calculate loss\n",
    "        loss = loss_function(outputs, labels)\n",
    "        running_loss += loss.item()\n",
    "\n",
    "        # Zero the parameter gradients\n",
    "        optimizer.zero_grad()\n",
    "        # Backward pass and optimize\n",
    "        loss.backward()\n",
    "        optimizer.step()\n",
    "\n",
    "    print(f'Epoch {epoch+1}, Training Loss: {running_loss/len(train_loader)}')\n",
    "\n",
    "    # Validation loop\n",
    "    model.eval()\n",
    "    val_loss = 0.0\n",
    "    with torch.no_grad():\n",
    "        for inputs, labels in val_loader:\n",
    "            inputs, labels = inputs.to(device), labels.to(device)\n",
    "            outputs = model(inputs)\n",
    "            loss = loss_function(outputs, labels)\n",
    "            val_loss += loss.item()\n",
    "\n",
    "    train_risk.append(running_loss/len(train_loader))\n",
    "    val_risk.append(val_loss/len(val_loader))\n",
    "    print(f'Epoch {epoch+1}, Validation Loss: {val_loss/len(val_loader)}')\n",
    "\n",
    "\n",
    "# plot the losses\n",
    "plt.plot([i+1 for i in range(epochs)], train_risk, label='Train Risk')\n",
    "plt.plot([i+1 for i in range(epochs)], val_risk, label='Validation Risk')\n",
    "plt.legend()\n",
    "plt.show()"
   ]
  },
  {
   "cell_type": "markdown",
   "metadata": {
    "id": "dABdqlhRcy2v"
   },
   "source": [
    "## Test Loop"
   ]
  },
  {
   "cell_type": "code",
   "execution_count": 11,
   "metadata": {
    "id": "dOrNnsdKmr-S"
   },
   "outputs": [],
   "source": [
    "%%capture\n",
    "pip install pytorch-msssim"
   ]
  },
  {
   "cell_type": "markdown",
   "metadata": {
    "id": "ri57vgpHm7F-"
   },
   "source": [
    "## Metrics"
   ]
  },
  {
   "cell_type": "code",
   "execution_count": null,
   "metadata": {
    "id": "c4DykAxOm8v0",
    "scrolled": false
   },
   "outputs": [],
   "source": [
    "import torch\n",
    "import numpy as np\n",
    "from math import log10\n",
    "from pytorch_msssim import ssim \n",
    "import matplotlib.pyplot as plt\n",
    "import random\n",
    "from skimage.metrics import structural_similarity as ssim\n",
    "\n",
    "def psnr(target, prediction):\n",
    "    mse = torch.mean((target - prediction) ** 2)\n",
    "    return 20 * torch.log10(1.0 / torch.sqrt(mse))\n",
    "model.eval()\n",
    "total_psnr = 0.0\n",
    "total_mse = 0.0\n",
    "total_ssim = 0.0\n",
    "total_samples = 0\n",
    "images_displayed = []  # Number of batches to display\n",
    "total_psnr_ = 0\n",
    "count = 0\n",
    "with torch.no_grad():\n",
    "    for batch_idx, (inputs, labels) in enumerate(test_loader):\n",
    "            print(f\"batch_idx: {batch_idx}\")\n",
    "            inputs, labels = inputs.to(device), labels.to(device)\n",
    "            outputs = model(inputs)\n",
    "\n",
    "            total_samples += inputs.size(0)\n",
    "            print(f\"total_samples: {total_samples}\")\n",
    "            for j in range(min(inputs.size(0), 5)):\n",
    "                i = random.randrange(0, inputs.size(0))\n",
    "                if i in images_displayed:\n",
    "                    continue\n",
    "                else:\n",
    "                    images_displayed.append(i)\n",
    "                    print(f\"i: {i}\")\n",
    "\n",
    "                    # Move images back to CPU for visualization\n",
    "                    inputs, labels, outputs = inputs.cpu(), labels.cpu(), outputs.cpu()\n",
    "                    mse_value = torch.mean((outputs[i] - labels[i]) ** 2)\n",
    "                    total_psnr = psnr(labels[i], outputs[i])\n",
    "                    \n",
    "\n",
    "                    # SSIM calculation\n",
    "                    y_true_np = labels[i].cpu().numpy()\n",
    "                    y_pred_np = outputs[i].cpu().numpy()\n",
    "\n",
    "                    # SSIM expects images in the format (Height, Width, Channels)\n",
    "                    y_true_np = np.transpose(y_true_np, (1, 2, 0))\n",
    "                    y_pred_np = np.transpose(y_pred_np, (1, 2, 0))\n",
    "\n",
    "                    # Calculate SSIM\n",
    "                    ssim_index = ssim(y_true_np, y_pred_np, data_range=1, channel_axis=2)\n",
    "                    \n",
    "                    # Apply the inverse transformation for visualization\n",
    "                    images_low_inv = inverse_transform(inputs[i])\n",
    "                    images_high_inv = inverse_transform(labels[i])\n",
    "                    outputs_inv = inverse_transform(outputs[i])\n",
    "                    images_low_inv = torch.clamp(images_low_inv, 0, 1)\n",
    "                    images_high_inv = torch.clamp(images_high_inv, 0, 1)\n",
    "                    outputs_inv = torch.clamp(outputs_inv, 0, 1) # Apply inverse transform to model outputs\n",
    "\n",
    "                    # Display images\n",
    "                    plt.figure(figsize=(30,30))\n",
    "                    # Display high-resolution target images\n",
    "                    plt.subplot(1,3,1)\n",
    "                    imshow(images_high_inv)\n",
    "                    plt.title('High-Res Target')\n",
    "\n",
    "                    # Display low-resolution images\n",
    "                    plt.subplot(1,3,2)\n",
    "                    imshow(images_low_inv)\n",
    "                    plt.title('Low-Res Input')\n",
    "\n",
    "                    # Display the model's output images\n",
    "                    plt.subplot(1,3,3)\n",
    "                    imshow(outputs_inv)\n",
    "                    plt.title('Model Output')\n",
    "                    # plot_images(images_high_inv[i],images_low_inv[i],outputs_inv[i])\n",
    "                    plt.show()\n",
    "\n",
    "                    \n",
    "\n",
    "                    print(f'MSE: {mse_value}')\n",
    "                    print(f'PSNR: {total_psnr} dB')\n",
    "                    print(f'SSIM: {ssim_index}')\n",
    "                    count += 1\n",
    "                    \n",
    "                    total_mse += mse_value\n",
    "                    total_psnr_ += total_psnr\n",
    "                    total_ssim += ssim_index\n",
    "                    \n",
    "average_mse = total_mse / count\n",
    "average_psnr = total_psnr_ / count\n",
    "average_ssim = total_ssim / count\n",
    "\n",
    "print(f'\\n\\nAverage Test MSE: {average_mse}')\n",
    "print(f'\\n\\nAverage Test PSNR: {average_psnr}')\n",
    "print(f'\\n\\nAverage Test SSIM: {average_ssim}')\n"
   ]
  },
  {
   "cell_type": "code",
   "execution_count": null,
   "metadata": {},
   "outputs": [],
   "source": []
  }
 ],
 "metadata": {
  "accelerator": "GPU",
  "colab": {
   "gpuType": "T4",
   "provenance": []
  },
  "kernelspec": {
   "display_name": "Python 3 (ipykernel)",
   "language": "python",
   "name": "python3"
  },
  "language_info": {
   "codemirror_mode": {
    "name": "ipython",
    "version": 3
   },
   "file_extension": ".py",
   "mimetype": "text/x-python",
   "name": "python",
   "nbconvert_exporter": "python",
   "pygments_lexer": "ipython3",
   "version": "3.9.13"
  }
 },
 "nbformat": 4,
 "nbformat_minor": 1
}
